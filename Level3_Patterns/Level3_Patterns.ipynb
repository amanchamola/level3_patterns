{
 "cells": [
  {
   "cell_type": "markdown",
   "metadata": {},
   "source": [
    "# Patterns 2"
   ]
  },
  {
   "cell_type": "code",
   "execution_count": null,
   "metadata": {},
   "outputs": [],
   "source": []
  },
  {
   "cell_type": "code",
   "execution_count": 1,
   "metadata": {},
   "outputs": [
    {
     "name": "stdout",
     "output_type": "stream",
     "text": [
      "5\n",
      "    *\n",
      "   ***\n",
      "  *****\n",
      " *******\n",
      "*********\n"
     ]
    }
   ],
   "source": [
    "n=int(input())\n",
    "i=1\n",
    "while n>=i:\n",
    "    #spaces\n",
    "    spaces = 1\n",
    "    while n-i>=spaces:\n",
    "        print(' ',end='')\n",
    "        spaces+=1\n",
    "\n",
    "\n",
    "    #increasing\n",
    "    stars = 1\n",
    "    while i>=stars:\n",
    "        print('*',end='')\n",
    "        stars+=1\n",
    "\n",
    "\n",
    "    #decreasing\n",
    "    p=i-1\n",
    "    while p>=1:\n",
    "        \n",
    "        print('*',end='')\n",
    "        p=p-1\n",
    "        \n",
    "    print()\n",
    "    i+=1"
   ]
  },
  {
   "cell_type": "code",
   "execution_count": null,
   "metadata": {},
   "outputs": [],
   "source": []
  },
  {
   "cell_type": "code",
   "execution_count": 3,
   "metadata": {},
   "outputs": [
    {
     "name": "stdout",
     "output_type": "stream",
     "text": [
      "5\n",
      "    1\n",
      "   232\n",
      "  34543\n",
      " 4567654\n",
      "567898765\n"
     ]
    }
   ],
   "source": [
    "n=int(input())\n",
    "i=1\n",
    "while n>=i:\n",
    "    #spaces\n",
    "    spaces = 1\n",
    "    while n-i>=spaces:\n",
    "        print(' ',end='')\n",
    "        spaces+=1\n",
    "\n",
    "\n",
    "    #increasing\n",
    "    stars = 1\n",
    "    while i>=stars:\n",
    "        print(i+stars-1,end='')\n",
    "        stars+=1\n",
    "\n",
    "\n",
    "    #decreasing\n",
    "    p=i-1\n",
    "    while p>=1:\n",
    "        \n",
    "        print(p+stars-2,end='')\n",
    "        p=p-1\n",
    "            \n",
    "    print()\n",
    "    i+=1\n"
   ]
  },
  {
   "cell_type": "code",
   "execution_count": null,
   "metadata": {},
   "outputs": [],
   "source": []
  },
  {
   "cell_type": "code",
   "execution_count": 4,
   "metadata": {},
   "outputs": [
    {
     "name": "stdout",
     "output_type": "stream",
     "text": [
      "5\n",
      "  *\n",
      " ***\n",
      "*****\n",
      " ***\n",
      "  *\n"
     ]
    }
   ],
   "source": [
    "n=int(input())\n",
    "i=1\n",
    "n1 = (n+1)/2\n",
    "j=1\n",
    "n2=n1-1\n",
    "\n",
    "\n",
    "while n1>=i:\n",
    "   \n",
    "    spaces = 1\n",
    "    while n1-i>=spaces:\n",
    "       \n",
    "        print(' ',end='')\n",
    "        spaces+=1\n",
    "\n",
    "    stars = 1\n",
    "    while stars<=2*i-1:\n",
    "        print('*',end='')\n",
    "        stars+=1\n",
    "\n",
    "    print() \n",
    "    i+=1\n",
    "\n",
    "\n",
    "while n2>=j:\n",
    "    spaces2 = 1\n",
    "    while spaces2<=j:\n",
    "        print(' ',end='')\n",
    "        spaces2+=1\n",
    "\n",
    "\n",
    "    stars2 = 1\n",
    "    while n-2*j>=stars2:\n",
    "        print('*',end='')\n",
    "        stars2+=1\n",
    "\n",
    "    print()\n",
    "    j+=1\n"
   ]
  },
  {
   "cell_type": "code",
   "execution_count": null,
   "metadata": {},
   "outputs": [],
   "source": []
  },
  {
   "cell_type": "code",
   "execution_count": 5,
   "metadata": {},
   "outputs": [
    {
     "name": "stdout",
     "output_type": "stream",
     "text": [
      "7\n",
      "1            1\n",
      "12          21\n",
      "123        321\n",
      "1234      4321\n",
      "12345    54321\n",
      "123456  654321\n",
      "12345677654321\n"
     ]
    }
   ],
   "source": [
    "n=int(input())\n",
    "i=1\n",
    "while n>=i:\n",
    "    j=1\n",
    "    while i>=j:\n",
    "        print(j,end='')\n",
    "        j+=1\n",
    "\n",
    "    #SPACES\n",
    "    k=1    \n",
    "    while (2*n)-(2*i)>=k:\n",
    "        print(' ',end='')\n",
    "        k+=1\n",
    "\n",
    "    #Numbers again\n",
    "    t=1\n",
    "    while i>=t:\n",
    "        print(i-t+1,end='')\n",
    "        t+=1\n",
    "\n",
    "    print()\n",
    "    i+=1\n"
   ]
  },
  {
   "cell_type": "code",
   "execution_count": null,
   "metadata": {},
   "outputs": [],
   "source": []
  },
  {
   "cell_type": "code",
   "execution_count": 6,
   "metadata": {},
   "outputs": [
    {
     "name": "stdout",
     "output_type": "stream",
     "text": [
      "5\n",
      "*0000*0000*\n",
      "0*000*000*0\n",
      "00*00*00*00\n",
      "000*0*0*000\n",
      "0000***0000\n"
     ]
    }
   ],
   "source": [
    "lines=int(input())  \n",
    "i=1  \n",
    "j=1  \n",
    "while i<=lines:  \n",
    "    j=1  \n",
    "    while j<=lines:       \n",
    "        if i==j:  \n",
    "            print(\"*\", end='')  \n",
    "        else :  \n",
    "            print(\"0\", end='')  \n",
    "        j=j+1  \n",
    "    j=j-1\n",
    "    print(\"*\", end='')  \n",
    "    while j>=1:   \n",
    "        if i==j:  \n",
    "            print(\"*\", end='')  \n",
    "        else :  \n",
    "            print(\"0\", end='')  \n",
    "        j=j-1  \n",
    "    print()  \n",
    "    i=i+1  \n"
   ]
  },
  {
   "cell_type": "code",
   "execution_count": null,
   "metadata": {},
   "outputs": [],
   "source": []
  },
  {
   "cell_type": "code",
   "execution_count": 7,
   "metadata": {},
   "outputs": [
    {
     "name": "stdout",
     "output_type": "stream",
     "text": [
      "5\n",
      "    1\n",
      "   212\n",
      "  32123\n",
      " 4321234\n",
      "543212345\n"
     ]
    }
   ],
   "source": [
    "n=int(input())\n",
    "i=1\n",
    "while n>=i:\n",
    "    #spaces\n",
    "    spaces = 1\n",
    "    while n-i>=spaces:\n",
    "        print(' ',end='')\n",
    "        spaces+=1\n",
    "\n",
    "\n",
    "    #increasing\n",
    "    stars = 1\n",
    "    while i>=stars:\n",
    "        print(i-stars+1,end='')\n",
    "        stars+=1\n",
    "\n",
    "\n",
    "    #decreasing\n",
    "    p=1\n",
    "    while i-1>=p:\n",
    "        \n",
    "        print(p+1,end='')\n",
    "        p=p+1\n",
    "        \n",
    "    print()\n",
    "    i+=1\n"
   ]
  },
  {
   "cell_type": "code",
   "execution_count": null,
   "metadata": {},
   "outputs": [],
   "source": []
  },
  {
   "cell_type": "code",
   "execution_count": 9,
   "metadata": {},
   "outputs": [
    {
     "name": "stdout",
     "output_type": "stream",
     "text": [
      "11\n",
      "* \n",
      " * * \n",
      "  * * * \n",
      "   * * * * \n",
      "    * * * * * \n",
      "     * * * * * * \n",
      "    * * * * * \n",
      "   * * * * \n",
      "  * * * \n",
      " * * \n",
      "* \n"
     ]
    }
   ],
   "source": [
    "n=int(input())\n",
    "i=1\n",
    "n1 = (n+1)/2\n",
    "j=1\n",
    "n2=n1-1\n",
    "\n",
    "while n1>=i:\n",
    "   \n",
    "    spaces = 1\n",
    "    while i-1>=spaces:\n",
    "       \n",
    "        print(' ',end='')\n",
    "        spaces+=1\n",
    "\n",
    "    stars = 1\n",
    "    while stars<=i:\n",
    "        print('* ',end='')\n",
    "        stars+=1\n",
    "\n",
    "    print() \n",
    "    i+=1\n",
    "\n",
    "\n",
    "\n",
    "while n2>=j:\n",
    "    spaces2 = 1\n",
    "    while spaces2<=n2-j:\n",
    "        print(' ',end='')\n",
    "        spaces2+=1\n",
    "\n",
    "\n",
    "    stars2 = 1\n",
    "    while n1-j>=stars2:\n",
    "        print('* ',end='')\n",
    "        stars2+=1\n",
    "\n",
    "    print()\n",
    "    j+=1\n"
   ]
  },
  {
   "cell_type": "code",
   "execution_count": null,
   "metadata": {},
   "outputs": [],
   "source": []
  },
  {
   "cell_type": "code",
   "execution_count": 10,
   "metadata": {},
   "outputs": [
    {
     "name": "stdout",
     "output_type": "stream",
     "text": [
      "6\n",
      "111111\n",
      "00000\n",
      "1111\n",
      "000\n",
      "11\n",
      "0\n"
     ]
    }
   ],
   "source": [
    "n=int(input())\n",
    "for i in range (1,n+1):\n",
    "    for j in range(n,i-1,-1):\n",
    "        if i%2==0:\n",
    "            print('0',end='')\n",
    "\n",
    "        else:\n",
    "            print('1',end='')\n",
    "\n",
    "    print()\n",
    "    i+=1\n"
   ]
  },
  {
   "cell_type": "code",
   "execution_count": null,
   "metadata": {},
   "outputs": [],
   "source": []
  },
  {
   "cell_type": "code",
   "execution_count": 11,
   "metadata": {},
   "outputs": [
    {
     "name": "stdout",
     "output_type": "stream",
     "text": [
      "6\n",
      "123456\n",
      " 23456\n",
      "  3456\n",
      "   456\n",
      "    56\n",
      "     6\n",
      "    56\n",
      "   456\n",
      "  3456\n",
      " 23456\n",
      "123456\n"
     ]
    }
   ],
   "source": [
    "n=int(input())\n",
    "n1=n\n",
    "n2=n1-1\n",
    "for i in range (1,n1+1):\n",
    "    for s in range(1,i):\n",
    "        print(' ',end='')\n",
    "\n",
    "    for j in range (1,n1-i+2):\n",
    "        print(i+j-1,end='')\n",
    "\n",
    "    print()    \n",
    "\n",
    "for t in range (1,n2+1):\n",
    "    for  spaces in range (1,n2-t+1):\n",
    "        print (' ',end='')\n",
    "\n",
    "    for k in range (1,t+2):\n",
    "        print(n-t+k-1,end='')\n",
    "        \n",
    "    print()        \n"
   ]
  },
  {
   "cell_type": "code",
   "execution_count": null,
   "metadata": {},
   "outputs": [],
   "source": []
  },
  {
   "cell_type": "code",
   "execution_count": 12,
   "metadata": {},
   "outputs": [
    {
     "name": "stdout",
     "output_type": "stream",
     "text": [
      "4\n",
      "4444444\n",
      "4333334\n",
      "4322234\n",
      "4321234\n",
      "4322234\n",
      "4333334\n",
      "4444444\n"
     ]
    }
   ],
   "source": [
    "n=int(input())\n",
    "\n",
    "for i in range (n,0,-1):\n",
    "    for j in range (n,i,-1):\n",
    "        print(j,end=\"\")\n",
    "    for k in range (1,i*2,1):\n",
    "        print(i,end=\"\")\n",
    "    for l in range (i+1,n+1,1):\n",
    "        print(l,end=\"\")\n",
    "    print()\n",
    "\n",
    "  \n",
    "for m in range (1,n,1):\n",
    "    for o in range (n,m,-1):\n",
    "        print(o,end=\"\")\n",
    "    for p in range (1,m*2,1):\n",
    "        print(m+1,end=\"\")\n",
    "    for q in range (m+1,n+1,1):\n",
    "        print(q,end=\"\")\n",
    "    print()\n"
   ]
  },
  {
   "cell_type": "code",
   "execution_count": null,
   "metadata": {},
   "outputs": [],
   "source": []
  },
  {
   "cell_type": "code",
   "execution_count": 13,
   "metadata": {},
   "outputs": [
    {
     "name": "stdout",
     "output_type": "stream",
     "text": [
      "5\n",
      "1  2  3  4  5  \n",
      "11  12  13  14  15  \n",
      "21  22  23  24  25  \n",
      "16  17  18  19  20  \n",
      "6  7  8  9  10  \n"
     ]
    }
   ],
   "source": [
    "n=int(input())\n",
    "o=n\n",
    "import math\n",
    "n1=math.ceil(n/2)\n",
    "n2=n-n1\n",
    "i=1\n",
    "t=1\n",
    "while n1>=i:\n",
    "    j=1\n",
    "    while n>=j:\n",
    "        print(t,' ',end='')\n",
    "        t=t+1\n",
    "        j+=1\n",
    "    print() \n",
    "    t+=n    \n",
    "    i+=1\n",
    "\n",
    "while n2>=1:\n",
    "    if n%2!=0:\n",
    "        k=n*(o-2)\n",
    "    else:\n",
    "        k=n*(o-1)\n",
    "    \n",
    "    p=1\n",
    "    while n>=p:\n",
    "        print (k+p,' ',end='')\n",
    "        p+=1\n",
    "\n",
    "    o=o-2\n",
    "    n2=n2-1\n",
    "    print()\n"
   ]
  },
  {
   "cell_type": "code",
   "execution_count": null,
   "metadata": {},
   "outputs": [],
   "source": []
  }
 ],
 "metadata": {
  "kernelspec": {
   "display_name": "Python 3",
   "language": "python",
   "name": "python3"
  },
  "language_info": {
   "codemirror_mode": {
    "name": "ipython",
    "version": 3
   },
   "file_extension": ".py",
   "mimetype": "text/x-python",
   "name": "python",
   "nbconvert_exporter": "python",
   "pygments_lexer": "ipython3",
   "version": "3.8.3"
  }
 },
 "nbformat": 4,
 "nbformat_minor": 4
}
